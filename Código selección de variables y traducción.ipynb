{
 "cells": [
  {
   "cell_type": "code",
   "execution_count": 1,
   "id": "c50c5502",
   "metadata": {},
   "outputs": [],
   "source": [
    "#Importar librerías\n",
    "import pandas as pd"
   ]
  },
  {
   "cell_type": "code",
   "execution_count": 2,
   "id": "924f06f7",
   "metadata": {},
   "outputs": [],
   "source": [
    "# Leer el archivo CSV\n",
    "ruta = r\"C:\\Users\\navae\\OneDrive\\Escritorio\\Tec\\Semestre 5\\Plataformas de analítica de negocios para organizaciones\\listings.csv\"\n",
    "df = pd.read_csv(ruta, low_memory=False)\n"
   ]
  },
  {
   "cell_type": "code",
   "execution_count": 3,
   "id": "8010cf74",
   "metadata": {},
   "outputs": [],
   "source": [
    "#Seleccionar variables\n",
    "variables = [\n",
    "    \"id\",\"host_id\",\n",
    "    \"neighbourhood_group_cleansed\",\"neighbourhood_cleansed\",\"latitude\",\"longitude\",\n",
    "    \"property_type\",\"room_type\",\"accommodates\",\"bathrooms\",\"bedrooms\",\"beds\",\"bathrooms_text\",\n",
    "    \"minimum_nights\",\"maximum_nights\",\"minimum_maximum_nights\",\"maximum_maximum_nights\",\n",
    "    \"price\",\"availability_30\",\"availability_60\",\"availability_90\",\"availability_365\",\n",
    "    \"number_of_reviews\",\"number_of_reviews_ltm\",\"number_of_reviews_l30d\",\n",
    "    \"first_review\",\"last_review\",\"reviews_per_month\",\n",
    "    \"review_scores_rating\",\"review_scores_accuracy\",\"review_scores_cleanliness\",\n",
    "    \"review_scores_checkin\",\"review_scores_communication\",\"review_scores_location\",\"review_scores_value\",\n",
    "    \"instant_bookable\",\"host_is_superhost\",\"host_since\",\n",
    "    \"host_response_time\",\"host_response_rate\",\"host_acceptance_rate\",\n",
    "    \"host_has_profile_pic\",\"host_identity_verified\",\n",
    "    \"host_listings_count\",\"host_total_listings_count\",\n",
    "    \"calculated_host_listings_count_entire_homes\",\n",
    "    \"calculated_host_listings_count_private_rooms\",\n",
    "    \"calculated_host_listings_count_shared_rooms\",\n",
    "    \"license\",\"amenities\"\n",
    "]"
   ]
  },
  {
   "cell_type": "code",
   "execution_count": 4,
   "id": "756077aa",
   "metadata": {},
   "outputs": [],
   "source": [
    "#Traducir variables seleccionadas\n",
    "translate_dict = {\n",
    "    \"id\":\"id\",\n",
    "    \"host_id\":\"id_anfitrion\",\n",
    "    \"neighbourhood_group_cleansed\":\"zona_grupo\",\n",
    "    \"neighbourhood_cleansed\":\"vecindario\",\n",
    "    \"latitude\":\"latitud\",\n",
    "    \"longitude\":\"longitud\",\n",
    "    \"property_type\":\"tipo_propiedad\",\n",
    "    \"room_type\":\"tipo_habitacion\",\n",
    "    \"accommodates\":\"capacidad\",\n",
    "    \"bathrooms\":\"banos\",\n",
    "    \"bedrooms\":\"recamaras\",\n",
    "    \"beds\":\"camas\",\n",
    "    \"bathrooms_text\":\"texto_banos\",\n",
    "    \"minimum_nights\":\"noches_minimas\",\n",
    "    \"maximum_nights\":\"noches_maximas\",\n",
    "    \"minimum_maximum_nights\":\"min_noches_maximas\",\n",
    "    \"maximum_maximum_nights\":\"max_noches_maximas\",\n",
    "    \"price\":\"precio\",\n",
    "    \"availability_30\":\"disp_30d\",\n",
    "    \"availability_60\":\"disp_60d\",\n",
    "    \"availability_90\":\"disp_90d\",\n",
    "    \"availability_365\":\"disp_365d\",\n",
    "    \"number_of_reviews\":\"num_resenas\",\n",
    "    \"number_of_reviews_ltm\":\"num_resenas_12m\",\n",
    "    \"number_of_reviews_l30d\":\"num_resenas_30d\",\n",
    "    \"first_review\":\"primera_resena\",\n",
    "    \"last_review\":\"ultima_resena\",\n",
    "    \"reviews_per_month\":\"resenas_por_mes\",\n",
    "    \"review_scores_rating\":\"calif_total\",\n",
    "    \"review_scores_accuracy\":\"calif_exactitud\",\n",
    "    \"review_scores_cleanliness\":\"calif_limpieza\",\n",
    "    \"review_scores_checkin\":\"calif_checkin\",\n",
    "    \"review_scores_communication\":\"calif_comunicacion\",\n",
    "    \"review_scores_location\":\"calif_ubicacion\",\n",
    "    \"review_scores_value\":\"calif_valor\",\n",
    "    \"instant_bookable\":\"reserva_inmediata\",\n",
    "    \"host_is_superhost\":\"es_superhost\",\n",
    "    \"host_since\":\"antiguedad_host\",\n",
    "    \"host_response_time\":\"tiempo_respuesta_host\",\n",
    "    \"host_response_rate\":\"tasa_respuesta_host\",\n",
    "    \"host_acceptance_rate\":\"tasa_aceptacion_host\",\n",
    "    \"host_has_profile_pic\":\"host_tiene_foto\",\n",
    "    \"host_identity_verified\":\"host_verificado\",\n",
    "    \"host_listings_count\":\"listados_host\",\n",
    "    \"host_total_listings_count\":\"total_listados_host\",\n",
    "    \"calculated_host_listings_count_entire_homes\":\"host_total_casas_completas\",\n",
    "    \"calculated_host_listings_count_private_rooms\":\"host_total_habitaciones_privadas\",\n",
    "    \"calculated_host_listings_count_shared_rooms\":\"host_total_habitaciones_compartidas\",\n",
    "    \"license\":\"licencia\",\n",
    "    \"amenities\":\"amenidades\"\n",
    "}\n"
   ]
  },
  {
   "cell_type": "code",
   "execution_count": 5,
   "id": "879a1f5c",
   "metadata": {},
   "outputs": [],
   "source": [
    "# Filtrar solo las variables de interés\n",
    "df_filtrado = df[variables]\n",
    "\n",
    "# Renombrar columnas al español\n",
    "df_filtrado = df_filtrado.rename(columns=translate_dict)"
   ]
  },
  {
   "cell_type": "code",
   "execution_count": 6,
   "id": "ee44c987",
   "metadata": {},
   "outputs": [
    {
     "name": "stdout",
     "output_type": "stream",
     "text": [
      "Archivo guardado en: C:\\Users\\navae\\OneDrive\\Escritorio\\Tec\\Semestre 5\\Plataformas de analítica de negocios para organizaciones\\Clonación Github\\Entendimiento_de_los_Datos\\listings_filtrado_es.csv\n"
     ]
    }
   ],
   "source": [
    "# Guardar nuevo archivo\n",
    "salida = r\"C:\\Users\\navae\\OneDrive\\Escritorio\\Tec\\Semestre 5\\Plataformas de analítica de negocios para organizaciones\\Clonación Github\\Entendimiento_de_los_Datos\\listings_filtrado_es.csv\"\n",
    "df_filtrado.to_csv(salida, index=False, encoding=\"utf-8-sig\")\n",
    "\n",
    "print(\"Archivo guardado en:\", salida)"
   ]
  }
 ],
 "metadata": {
  "kernelspec": {
   "display_name": "Python 3",
   "language": "python",
   "name": "python3"
  },
  "language_info": {
   "codemirror_mode": {
    "name": "ipython",
    "version": 3
   },
   "file_extension": ".py",
   "mimetype": "text/x-python",
   "name": "python",
   "nbconvert_exporter": "python",
   "pygments_lexer": "ipython3",
   "version": "3.13.6"
  }
 },
 "nbformat": 4,
 "nbformat_minor": 5
}
